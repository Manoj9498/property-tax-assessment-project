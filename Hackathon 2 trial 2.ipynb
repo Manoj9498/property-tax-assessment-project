{
 "cells": [
  {
   "cell_type": "code",
   "execution_count": 199,
   "id": "09d16ae9",
   "metadata": {},
   "outputs": [],
   "source": [
    "import pandas as pd\n",
    "import numpy as np\n",
    "import matplotlib.pyplot as plt\n",
    "import seaborn as sns\n",
    "\n",
    "from sklearn.model_selection import train_test_split\n",
    "from sklearn.preprocessing import StandardScaler\n",
    "from sklearn.decomposition import PCA\n",
    "from sklearn.pipeline import Pipeline\n",
    "from sklearn.linear_model import LogisticRegression\n",
    "from sklearn.tree import DecisionTreeClassifier\n",
    "from sklearn.ensemble import RandomForestClassifier\n",
    "from sklearn.linear_model import LinearRegression\n",
    "\n",
    "from sklearn.pipeline import Pipeline\n",
    "from sklearn.compose import ColumnTransformer\n",
    "\n",
    "from sklearn.preprocessing import StandardScaler, OneHotEncoder\n",
    "from sklearn.impute import SimpleImputer\n",
    "from sklearn.preprocessing import LabelEncoder, OrdinalEncoder\n",
    "\n",
    "from sklearn.metrics import mean_absolute_percentage_error"
   ]
  },
  {
   "cell_type": "code",
   "execution_count": 200,
   "id": "d639e06f",
   "metadata": {},
   "outputs": [],
   "source": [
    "train_data=pd.read_excel('Train.xlsx',na_values=['?','Unknown/Invalid','nan'])"
   ]
  },
  {
   "cell_type": "code",
   "execution_count": 201,
   "id": "2033776b",
   "metadata": {},
   "outputs": [],
   "source": [
    "x_test=pd.read_excel('Test.xlsx',na_values=['?','Unknown/Invalid','nan'])"
   ]
  },
  {
   "cell_type": "code",
   "execution_count": 202,
   "id": "f518dfd6",
   "metadata": {},
   "outputs": [],
   "source": [
    "y_test=pd.read_csv('samplesubmission.csv',na_values=['?','Unknown/Invalid','nan'])"
   ]
  },
  {
   "cell_type": "code",
   "execution_count": 203,
   "id": "d8c8a09a",
   "metadata": {},
   "outputs": [],
   "source": [
    "x_train_data=train_data.drop('PropertyEvaluationvalue',axis=1)"
   ]
  },
  {
   "cell_type": "code",
   "execution_count": 204,
   "id": "a7071ab1",
   "metadata": {},
   "outputs": [],
   "source": [
    "y_train_data=train_data.PropertyEvaluationvalue"
   ]
  },
  {
   "cell_type": "code",
   "execution_count": 205,
   "id": "62eda3c2",
   "metadata": {
    "scrolled": true
   },
   "outputs": [],
   "source": [
    "x_train_data.drop(['PropertyID','State','Address'],axis=1,inplace=True)"
   ]
  },
  {
   "cell_type": "code",
   "execution_count": 206,
   "id": "4d05c16c",
   "metadata": {},
   "outputs": [
    {
     "data": {
      "text/html": [
       "<div>\n",
       "<style scoped>\n",
       "    .dataframe tbody tr th:only-of-type {\n",
       "        vertical-align: middle;\n",
       "    }\n",
       "\n",
       "    .dataframe tbody tr th {\n",
       "        vertical-align: top;\n",
       "    }\n",
       "\n",
       "    .dataframe thead th {\n",
       "        text-align: right;\n",
       "    }\n",
       "</style>\n",
       "<table border=\"1\" class=\"dataframe\">\n",
       "  <thead>\n",
       "    <tr style=\"text-align: right;\">\n",
       "      <th></th>\n",
       "      <th>Borough</th>\n",
       "      <th>Surroundings</th>\n",
       "      <th>ZipCode</th>\n",
       "      <th>Block</th>\n",
       "      <th>Lot</th>\n",
       "      <th>BldgClassCategory</th>\n",
       "      <th>NoOfResidentialUnits</th>\n",
       "      <th>NoOfCommercialUnits</th>\n",
       "      <th>TotalNoOfUnits</th>\n",
       "      <th>LandAreaInSqFt</th>\n",
       "      <th>GrossAreaInSqFt</th>\n",
       "      <th>YearOfConstruction</th>\n",
       "      <th>TaxClass_AtEvaluationTime</th>\n",
       "      <th>BldgClass_AtEvaluationTime</th>\n",
       "      <th>DateOfEvaluation</th>\n",
       "    </tr>\n",
       "  </thead>\n",
       "  <tbody>\n",
       "    <tr>\n",
       "      <th>0</th>\n",
       "      <td>1</td>\n",
       "      <td>BATHGATE</td>\n",
       "      <td>10456</td>\n",
       "      <td>2927</td>\n",
       "      <td>127</td>\n",
       "      <td>02 TWO FAMILY DWELLINGS</td>\n",
       "      <td>2</td>\n",
       "      <td>0</td>\n",
       "      <td>2</td>\n",
       "      <td>1900</td>\n",
       "      <td>2394</td>\n",
       "      <td>1990</td>\n",
       "      <td>1</td>\n",
       "      <td>B1</td>\n",
       "      <td>2014-05-30</td>\n",
       "    </tr>\n",
       "    <tr>\n",
       "      <th>1</th>\n",
       "      <td>1</td>\n",
       "      <td>BATHGATE</td>\n",
       "      <td>10457</td>\n",
       "      <td>3037</td>\n",
       "      <td>110</td>\n",
       "      <td>03 THREE FAMILY DWELLINGS</td>\n",
       "      <td>3</td>\n",
       "      <td>0</td>\n",
       "      <td>3</td>\n",
       "      <td>1687</td>\n",
       "      <td>3037</td>\n",
       "      <td>2002</td>\n",
       "      <td>1</td>\n",
       "      <td>C0</td>\n",
       "      <td>2014-09-13</td>\n",
       "    </tr>\n",
       "    <tr>\n",
       "      <th>2</th>\n",
       "      <td>1</td>\n",
       "      <td>BATHGATE</td>\n",
       "      <td>10457</td>\n",
       "      <td>2912</td>\n",
       "      <td>155</td>\n",
       "      <td>02 TWO FAMILY DWELLINGS</td>\n",
       "      <td>2</td>\n",
       "      <td>0</td>\n",
       "      <td>2</td>\n",
       "      <td>2000</td>\n",
       "      <td>2400</td>\n",
       "      <td>1989</td>\n",
       "      <td>1</td>\n",
       "      <td>B1</td>\n",
       "      <td>2014-09-28</td>\n",
       "    </tr>\n",
       "    <tr>\n",
       "      <th>3</th>\n",
       "      <td>1</td>\n",
       "      <td>BATHGATE</td>\n",
       "      <td>10457</td>\n",
       "      <td>2929</td>\n",
       "      <td>134</td>\n",
       "      <td>02 TWO FAMILY DWELLINGS</td>\n",
       "      <td>2</td>\n",
       "      <td>0</td>\n",
       "      <td>2</td>\n",
       "      <td>2356</td>\n",
       "      <td>2394</td>\n",
       "      <td>1991</td>\n",
       "      <td>1</td>\n",
       "      <td>B1</td>\n",
       "      <td>2014-06-05</td>\n",
       "    </tr>\n",
       "    <tr>\n",
       "      <th>4</th>\n",
       "      <td>1</td>\n",
       "      <td>BATHGATE</td>\n",
       "      <td>10457</td>\n",
       "      <td>3036</td>\n",
       "      <td>140</td>\n",
       "      <td>02 TWO FAMILY DWELLINGS</td>\n",
       "      <td>2</td>\n",
       "      <td>0</td>\n",
       "      <td>2</td>\n",
       "      <td>3346</td>\n",
       "      <td>2308</td>\n",
       "      <td>1993</td>\n",
       "      <td>1</td>\n",
       "      <td>B1</td>\n",
       "      <td>2015-02-07</td>\n",
       "    </tr>\n",
       "  </tbody>\n",
       "</table>\n",
       "</div>"
      ],
      "text/plain": [
       "   Borough Surroundings  ZipCode  Block  Lot          BldgClassCategory  \\\n",
       "0        1     BATHGATE    10456   2927  127    02 TWO FAMILY DWELLINGS   \n",
       "1        1     BATHGATE    10457   3037  110  03 THREE FAMILY DWELLINGS   \n",
       "2        1     BATHGATE    10457   2912  155    02 TWO FAMILY DWELLINGS   \n",
       "3        1     BATHGATE    10457   2929  134    02 TWO FAMILY DWELLINGS   \n",
       "4        1     BATHGATE    10457   3036  140    02 TWO FAMILY DWELLINGS   \n",
       "\n",
       "   NoOfResidentialUnits  NoOfCommercialUnits  TotalNoOfUnits  LandAreaInSqFt  \\\n",
       "0                     2                    0               2            1900   \n",
       "1                     3                    0               3            1687   \n",
       "2                     2                    0               2            2000   \n",
       "3                     2                    0               2            2356   \n",
       "4                     2                    0               2            3346   \n",
       "\n",
       "   GrossAreaInSqFt  YearOfConstruction  TaxClass_AtEvaluationTime  \\\n",
       "0             2394                1990                          1   \n",
       "1             3037                2002                          1   \n",
       "2             2400                1989                          1   \n",
       "3             2394                1991                          1   \n",
       "4             2308                1993                          1   \n",
       "\n",
       "  BldgClass_AtEvaluationTime DateOfEvaluation  \n",
       "0                         B1       2014-05-30  \n",
       "1                         C0       2014-09-13  \n",
       "2                         B1       2014-09-28  \n",
       "3                         B1       2014-06-05  \n",
       "4                         B1       2015-02-07  "
      ]
     },
     "execution_count": 206,
     "metadata": {},
     "output_type": "execute_result"
    }
   ],
   "source": [
    "x_train_data.head()"
   ]
  },
  {
   "cell_type": "code",
   "execution_count": 207,
   "id": "33649f0d",
   "metadata": {},
   "outputs": [],
   "source": [
    "x_test.drop(['PropertyID','State','Address'],axis=1,inplace=True)"
   ]
  },
  {
   "cell_type": "code",
   "execution_count": 208,
   "id": "aa7fbc02",
   "metadata": {},
   "outputs": [],
   "source": [
    "y_test.drop(['PropertyID'],axis=1,inplace=True)"
   ]
  },
  {
   "cell_type": "code",
   "execution_count": 209,
   "id": "9b6aad6f",
   "metadata": {},
   "outputs": [],
   "source": [
    "train_data.drop(train_data[train_data['LandAreaInSqFt']==5612000].index,axis=0,inplace=True)"
   ]
  },
  {
   "cell_type": "code",
   "execution_count": 210,
   "id": "8eb62c90",
   "metadata": {},
   "outputs": [],
   "source": [
    "train_data.drop(train_data[train_data['LandAreaInSqFt']==1806433].index,axis=0,inplace=True)"
   ]
  },
  {
   "cell_type": "code",
   "execution_count": 211,
   "id": "4ae4a587",
   "metadata": {},
   "outputs": [],
   "source": [
    "X_train=x_train_data\n",
    "Y_train=y_train_data"
   ]
  },
  {
   "cell_type": "code",
   "execution_count": 212,
   "id": "c1be82c4",
   "metadata": {},
   "outputs": [],
   "source": [
    "X_test=x_test\n",
    "Y_test=y_test.PropertyEvaluationvalue"
   ]
  },
  {
   "cell_type": "code",
   "execution_count": 213,
   "id": "3a86c630",
   "metadata": {},
   "outputs": [],
   "source": [
    "num_cols = X_train[['ZipCode','LandAreaInSqFt','GrossAreaInSqFt']].columns\n",
    "cat_cols = X_train[['BldgClassCategory','NoOfResidentialUnits','NoOfCommercialUnits','TaxClass_AtEvaluationTime',\n",
    "       'BldgClass_AtEvaluationTime','Surroundings','Block','Lot','Borough',\n",
    "        'TotalNoOfUnits','YearOfConstruction','DateOfEvaluation']].columns"
   ]
  },
  {
   "cell_type": "code",
   "execution_count": 214,
   "id": "88a16b5f",
   "metadata": {},
   "outputs": [],
   "source": [
    "X_train[cat_cols] = X_train[cat_cols].astype('category')"
   ]
  },
  {
   "cell_type": "code",
   "execution_count": 215,
   "id": "6cff8ffe",
   "metadata": {},
   "outputs": [],
   "source": [
    "Numeric_transformer=Pipeline([('Missing values', SimpleImputer(strategy='mean'))\n",
    "                              ,('scalar1',StandardScaler())])"
   ]
  },
  {
   "cell_type": "code",
   "execution_count": 216,
   "id": "7693c108",
   "metadata": {},
   "outputs": [],
   "source": [
    "categorical_transformer=Pipeline([('Missing values',SimpleImputer(strategy='most_frequent'))\n",
    "                              ,('ohe',OneHotEncoder(handle_unknown='ignore'))])"
   ]
  },
  {
   "cell_type": "code",
   "execution_count": 217,
   "id": "d8052eff",
   "metadata": {},
   "outputs": [],
   "source": [
    "preprocessor=(ColumnTransformer(transformers=[('num',Numeric_transformer,num_cols),('cat',categorical_transformer,cat_cols)]))"
   ]
  },
  {
   "cell_type": "code",
   "execution_count": 218,
   "id": "33851a5e",
   "metadata": {},
   "outputs": [],
   "source": [
    "RF_pipe = Pipeline([('pp',preprocessor),('DT',DecisionTreeClassifier())])"
   ]
  },
  {
   "cell_type": "code",
   "execution_count": 219,
   "id": "719ab84a",
   "metadata": {},
   "outputs": [
    {
     "data": {
      "text/html": [
       "<style>#sk-container-id-6 {color: black;background-color: white;}#sk-container-id-6 pre{padding: 0;}#sk-container-id-6 div.sk-toggleable {background-color: white;}#sk-container-id-6 label.sk-toggleable__label {cursor: pointer;display: block;width: 100%;margin-bottom: 0;padding: 0.3em;box-sizing: border-box;text-align: center;}#sk-container-id-6 label.sk-toggleable__label-arrow:before {content: \"▸\";float: left;margin-right: 0.25em;color: #696969;}#sk-container-id-6 label.sk-toggleable__label-arrow:hover:before {color: black;}#sk-container-id-6 div.sk-estimator:hover label.sk-toggleable__label-arrow:before {color: black;}#sk-container-id-6 div.sk-toggleable__content {max-height: 0;max-width: 0;overflow: hidden;text-align: left;background-color: #f0f8ff;}#sk-container-id-6 div.sk-toggleable__content pre {margin: 0.2em;color: black;border-radius: 0.25em;background-color: #f0f8ff;}#sk-container-id-6 input.sk-toggleable__control:checked~div.sk-toggleable__content {max-height: 200px;max-width: 100%;overflow: auto;}#sk-container-id-6 input.sk-toggleable__control:checked~label.sk-toggleable__label-arrow:before {content: \"▾\";}#sk-container-id-6 div.sk-estimator input.sk-toggleable__control:checked~label.sk-toggleable__label {background-color: #d4ebff;}#sk-container-id-6 div.sk-label input.sk-toggleable__control:checked~label.sk-toggleable__label {background-color: #d4ebff;}#sk-container-id-6 input.sk-hidden--visually {border: 0;clip: rect(1px 1px 1px 1px);clip: rect(1px, 1px, 1px, 1px);height: 1px;margin: -1px;overflow: hidden;padding: 0;position: absolute;width: 1px;}#sk-container-id-6 div.sk-estimator {font-family: monospace;background-color: #f0f8ff;border: 1px dotted black;border-radius: 0.25em;box-sizing: border-box;margin-bottom: 0.5em;}#sk-container-id-6 div.sk-estimator:hover {background-color: #d4ebff;}#sk-container-id-6 div.sk-parallel-item::after {content: \"\";width: 100%;border-bottom: 1px solid gray;flex-grow: 1;}#sk-container-id-6 div.sk-label:hover label.sk-toggleable__label {background-color: #d4ebff;}#sk-container-id-6 div.sk-serial::before {content: \"\";position: absolute;border-left: 1px solid gray;box-sizing: border-box;top: 0;bottom: 0;left: 50%;z-index: 0;}#sk-container-id-6 div.sk-serial {display: flex;flex-direction: column;align-items: center;background-color: white;padding-right: 0.2em;padding-left: 0.2em;position: relative;}#sk-container-id-6 div.sk-item {position: relative;z-index: 1;}#sk-container-id-6 div.sk-parallel {display: flex;align-items: stretch;justify-content: center;background-color: white;position: relative;}#sk-container-id-6 div.sk-item::before, #sk-container-id-6 div.sk-parallel-item::before {content: \"\";position: absolute;border-left: 1px solid gray;box-sizing: border-box;top: 0;bottom: 0;left: 50%;z-index: -1;}#sk-container-id-6 div.sk-parallel-item {display: flex;flex-direction: column;z-index: 1;position: relative;background-color: white;}#sk-container-id-6 div.sk-parallel-item:first-child::after {align-self: flex-end;width: 50%;}#sk-container-id-6 div.sk-parallel-item:last-child::after {align-self: flex-start;width: 50%;}#sk-container-id-6 div.sk-parallel-item:only-child::after {width: 0;}#sk-container-id-6 div.sk-dashed-wrapped {border: 1px dashed gray;margin: 0 0.4em 0.5em 0.4em;box-sizing: border-box;padding-bottom: 0.4em;background-color: white;}#sk-container-id-6 div.sk-label label {font-family: monospace;font-weight: bold;display: inline-block;line-height: 1.2em;}#sk-container-id-6 div.sk-label-container {text-align: center;}#sk-container-id-6 div.sk-container {/* jupyter's `normalize.less` sets `[hidden] { display: none; }` but bootstrap.min.css set `[hidden] { display: none !important; }` so we also need the `!important` here to be able to override the default hidden behavior on the sphinx rendered scikit-learn.org. See: https://github.com/scikit-learn/scikit-learn/issues/21755 */display: inline-block !important;position: relative;}#sk-container-id-6 div.sk-text-repr-fallback {display: none;}</style><div id=\"sk-container-id-6\" class=\"sk-top-container\"><div class=\"sk-text-repr-fallback\"><pre>Pipeline(steps=[(&#x27;pp&#x27;,\n",
       "                 ColumnTransformer(transformers=[(&#x27;num&#x27;,\n",
       "                                                  Pipeline(steps=[(&#x27;Missing &#x27;\n",
       "                                                                   &#x27;values&#x27;,\n",
       "                                                                   SimpleImputer()),\n",
       "                                                                  (&#x27;scalar1&#x27;,\n",
       "                                                                   StandardScaler())]),\n",
       "                                                  Index([&#x27;ZipCode&#x27;, &#x27;LandAreaInSqFt&#x27;, &#x27;GrossAreaInSqFt&#x27;], dtype=&#x27;object&#x27;)),\n",
       "                                                 (&#x27;cat&#x27;,\n",
       "                                                  Pipeline(steps=[(&#x27;Missing &#x27;\n",
       "                                                                   &#x27;values&#x27;,\n",
       "                                                                   SimpleImputer(strategy=&#x27;most_frequent&#x27;)),\n",
       "                                                                  (&#x27;ohe&#x27;,\n",
       "                                                                   OneHotEncoder(handle_unknown=&#x27;ignore&#x27;))]),\n",
       "                                                  Index([&#x27;BldgClassCategory&#x27;, &#x27;NoOfResidentialUnits&#x27;, &#x27;NoOfCommercialUnits&#x27;,\n",
       "       &#x27;TaxClass_AtEvaluationTime&#x27;, &#x27;BldgClass_AtEvaluationTime&#x27;,\n",
       "       &#x27;Surroundings&#x27;, &#x27;Block&#x27;, &#x27;Lot&#x27;, &#x27;Borough&#x27;, &#x27;TotalNoOfUnits&#x27;,\n",
       "       &#x27;YearOfConstruction&#x27;, &#x27;DateOfEvaluation&#x27;],\n",
       "      dtype=&#x27;object&#x27;))])),\n",
       "                (&#x27;DT&#x27;, DecisionTreeClassifier())])</pre><b>In a Jupyter environment, please rerun this cell to show the HTML representation or trust the notebook. <br />On GitHub, the HTML representation is unable to render, please try loading this page with nbviewer.org.</b></div><div class=\"sk-container\" hidden><div class=\"sk-item sk-dashed-wrapped\"><div class=\"sk-label-container\"><div class=\"sk-label sk-toggleable\"><input class=\"sk-toggleable__control sk-hidden--visually\" id=\"sk-estimator-id-46\" type=\"checkbox\" ><label for=\"sk-estimator-id-46\" class=\"sk-toggleable__label sk-toggleable__label-arrow\">Pipeline</label><div class=\"sk-toggleable__content\"><pre>Pipeline(steps=[(&#x27;pp&#x27;,\n",
       "                 ColumnTransformer(transformers=[(&#x27;num&#x27;,\n",
       "                                                  Pipeline(steps=[(&#x27;Missing &#x27;\n",
       "                                                                   &#x27;values&#x27;,\n",
       "                                                                   SimpleImputer()),\n",
       "                                                                  (&#x27;scalar1&#x27;,\n",
       "                                                                   StandardScaler())]),\n",
       "                                                  Index([&#x27;ZipCode&#x27;, &#x27;LandAreaInSqFt&#x27;, &#x27;GrossAreaInSqFt&#x27;], dtype=&#x27;object&#x27;)),\n",
       "                                                 (&#x27;cat&#x27;,\n",
       "                                                  Pipeline(steps=[(&#x27;Missing &#x27;\n",
       "                                                                   &#x27;values&#x27;,\n",
       "                                                                   SimpleImputer(strategy=&#x27;most_frequent&#x27;)),\n",
       "                                                                  (&#x27;ohe&#x27;,\n",
       "                                                                   OneHotEncoder(handle_unknown=&#x27;ignore&#x27;))]),\n",
       "                                                  Index([&#x27;BldgClassCategory&#x27;, &#x27;NoOfResidentialUnits&#x27;, &#x27;NoOfCommercialUnits&#x27;,\n",
       "       &#x27;TaxClass_AtEvaluationTime&#x27;, &#x27;BldgClass_AtEvaluationTime&#x27;,\n",
       "       &#x27;Surroundings&#x27;, &#x27;Block&#x27;, &#x27;Lot&#x27;, &#x27;Borough&#x27;, &#x27;TotalNoOfUnits&#x27;,\n",
       "       &#x27;YearOfConstruction&#x27;, &#x27;DateOfEvaluation&#x27;],\n",
       "      dtype=&#x27;object&#x27;))])),\n",
       "                (&#x27;DT&#x27;, DecisionTreeClassifier())])</pre></div></div></div><div class=\"sk-serial\"><div class=\"sk-item sk-dashed-wrapped\"><div class=\"sk-label-container\"><div class=\"sk-label sk-toggleable\"><input class=\"sk-toggleable__control sk-hidden--visually\" id=\"sk-estimator-id-47\" type=\"checkbox\" ><label for=\"sk-estimator-id-47\" class=\"sk-toggleable__label sk-toggleable__label-arrow\">pp: ColumnTransformer</label><div class=\"sk-toggleable__content\"><pre>ColumnTransformer(transformers=[(&#x27;num&#x27;,\n",
       "                                 Pipeline(steps=[(&#x27;Missing values&#x27;,\n",
       "                                                  SimpleImputer()),\n",
       "                                                 (&#x27;scalar1&#x27;,\n",
       "                                                  StandardScaler())]),\n",
       "                                 Index([&#x27;ZipCode&#x27;, &#x27;LandAreaInSqFt&#x27;, &#x27;GrossAreaInSqFt&#x27;], dtype=&#x27;object&#x27;)),\n",
       "                                (&#x27;cat&#x27;,\n",
       "                                 Pipeline(steps=[(&#x27;Missing values&#x27;,\n",
       "                                                  SimpleImputer(strategy=&#x27;most_frequent&#x27;)),\n",
       "                                                 (&#x27;ohe&#x27;,\n",
       "                                                  OneHotEncoder(handle_unknown=&#x27;ignore&#x27;))]),\n",
       "                                 Index([&#x27;BldgClassCategory&#x27;, &#x27;NoOfResidentialUnits&#x27;, &#x27;NoOfCommercialUnits&#x27;,\n",
       "       &#x27;TaxClass_AtEvaluationTime&#x27;, &#x27;BldgClass_AtEvaluationTime&#x27;,\n",
       "       &#x27;Surroundings&#x27;, &#x27;Block&#x27;, &#x27;Lot&#x27;, &#x27;Borough&#x27;, &#x27;TotalNoOfUnits&#x27;,\n",
       "       &#x27;YearOfConstruction&#x27;, &#x27;DateOfEvaluation&#x27;],\n",
       "      dtype=&#x27;object&#x27;))])</pre></div></div></div><div class=\"sk-parallel\"><div class=\"sk-parallel-item\"><div class=\"sk-item\"><div class=\"sk-label-container\"><div class=\"sk-label sk-toggleable\"><input class=\"sk-toggleable__control sk-hidden--visually\" id=\"sk-estimator-id-48\" type=\"checkbox\" ><label for=\"sk-estimator-id-48\" class=\"sk-toggleable__label sk-toggleable__label-arrow\">num</label><div class=\"sk-toggleable__content\"><pre>Index([&#x27;ZipCode&#x27;, &#x27;LandAreaInSqFt&#x27;, &#x27;GrossAreaInSqFt&#x27;], dtype=&#x27;object&#x27;)</pre></div></div></div><div class=\"sk-serial\"><div class=\"sk-item\"><div class=\"sk-serial\"><div class=\"sk-item\"><div class=\"sk-estimator sk-toggleable\"><input class=\"sk-toggleable__control sk-hidden--visually\" id=\"sk-estimator-id-49\" type=\"checkbox\" ><label for=\"sk-estimator-id-49\" class=\"sk-toggleable__label sk-toggleable__label-arrow\">SimpleImputer</label><div class=\"sk-toggleable__content\"><pre>SimpleImputer()</pre></div></div></div><div class=\"sk-item\"><div class=\"sk-estimator sk-toggleable\"><input class=\"sk-toggleable__control sk-hidden--visually\" id=\"sk-estimator-id-50\" type=\"checkbox\" ><label for=\"sk-estimator-id-50\" class=\"sk-toggleable__label sk-toggleable__label-arrow\">StandardScaler</label><div class=\"sk-toggleable__content\"><pre>StandardScaler()</pre></div></div></div></div></div></div></div></div><div class=\"sk-parallel-item\"><div class=\"sk-item\"><div class=\"sk-label-container\"><div class=\"sk-label sk-toggleable\"><input class=\"sk-toggleable__control sk-hidden--visually\" id=\"sk-estimator-id-51\" type=\"checkbox\" ><label for=\"sk-estimator-id-51\" class=\"sk-toggleable__label sk-toggleable__label-arrow\">cat</label><div class=\"sk-toggleable__content\"><pre>Index([&#x27;BldgClassCategory&#x27;, &#x27;NoOfResidentialUnits&#x27;, &#x27;NoOfCommercialUnits&#x27;,\n",
       "       &#x27;TaxClass_AtEvaluationTime&#x27;, &#x27;BldgClass_AtEvaluationTime&#x27;,\n",
       "       &#x27;Surroundings&#x27;, &#x27;Block&#x27;, &#x27;Lot&#x27;, &#x27;Borough&#x27;, &#x27;TotalNoOfUnits&#x27;,\n",
       "       &#x27;YearOfConstruction&#x27;, &#x27;DateOfEvaluation&#x27;],\n",
       "      dtype=&#x27;object&#x27;)</pre></div></div></div><div class=\"sk-serial\"><div class=\"sk-item\"><div class=\"sk-serial\"><div class=\"sk-item\"><div class=\"sk-estimator sk-toggleable\"><input class=\"sk-toggleable__control sk-hidden--visually\" id=\"sk-estimator-id-52\" type=\"checkbox\" ><label for=\"sk-estimator-id-52\" class=\"sk-toggleable__label sk-toggleable__label-arrow\">SimpleImputer</label><div class=\"sk-toggleable__content\"><pre>SimpleImputer(strategy=&#x27;most_frequent&#x27;)</pre></div></div></div><div class=\"sk-item\"><div class=\"sk-estimator sk-toggleable\"><input class=\"sk-toggleable__control sk-hidden--visually\" id=\"sk-estimator-id-53\" type=\"checkbox\" ><label for=\"sk-estimator-id-53\" class=\"sk-toggleable__label sk-toggleable__label-arrow\">OneHotEncoder</label><div class=\"sk-toggleable__content\"><pre>OneHotEncoder(handle_unknown=&#x27;ignore&#x27;)</pre></div></div></div></div></div></div></div></div></div></div><div class=\"sk-item\"><div class=\"sk-estimator sk-toggleable\"><input class=\"sk-toggleable__control sk-hidden--visually\" id=\"sk-estimator-id-54\" type=\"checkbox\" ><label for=\"sk-estimator-id-54\" class=\"sk-toggleable__label sk-toggleable__label-arrow\">DecisionTreeClassifier</label><div class=\"sk-toggleable__content\"><pre>DecisionTreeClassifier()</pre></div></div></div></div></div></div></div>"
      ],
      "text/plain": [
       "Pipeline(steps=[('pp',\n",
       "                 ColumnTransformer(transformers=[('num',\n",
       "                                                  Pipeline(steps=[('Missing '\n",
       "                                                                   'values',\n",
       "                                                                   SimpleImputer()),\n",
       "                                                                  ('scalar1',\n",
       "                                                                   StandardScaler())]),\n",
       "                                                  Index(['ZipCode', 'LandAreaInSqFt', 'GrossAreaInSqFt'], dtype='object')),\n",
       "                                                 ('cat',\n",
       "                                                  Pipeline(steps=[('Missing '\n",
       "                                                                   'values',\n",
       "                                                                   SimpleImputer(strategy='most_frequent')),\n",
       "                                                                  ('ohe',\n",
       "                                                                   OneHotEncoder(handle_unknown='ignore'))]),\n",
       "                                                  Index(['BldgClassCategory', 'NoOfResidentialUnits', 'NoOfCommercialUnits',\n",
       "       'TaxClass_AtEvaluationTime', 'BldgClass_AtEvaluationTime',\n",
       "       'Surroundings', 'Block', 'Lot', 'Borough', 'TotalNoOfUnits',\n",
       "       'YearOfConstruction', 'DateOfEvaluation'],\n",
       "      dtype='object'))])),\n",
       "                ('DT', DecisionTreeClassifier())])"
      ]
     },
     "execution_count": 219,
     "metadata": {},
     "output_type": "execute_result"
    }
   ],
   "source": [
    "RF_pipe.fit(X_train,Y_train)"
   ]
  },
  {
   "cell_type": "code",
   "execution_count": 220,
   "id": "cf04a5b1",
   "metadata": {},
   "outputs": [],
   "source": [
    "train_pred_RFPipe = RF_pipe.predict(X_train)\n",
    "test_pred_RFPipe = RF_pipe.predict(X_test)"
   ]
  },
  {
   "cell_type": "code",
   "execution_count": 221,
   "id": "88388cf6",
   "metadata": {},
   "outputs": [],
   "source": [
    "def evaluate_model(act, pred):\n",
    "    from sklearn.metrics import confusion_matrix, accuracy_score, recall_score, precision_score\n",
    "    print(\"Confusion Matrix \\n\", confusion_matrix(act, pred))\n",
    "    print(\"Accurcay : \", accuracy_score(act, pred))\n",
    "    print(\"Recall   : \", recall_score(act, pred, average='weighted'))\n",
    "    print(\"Precision: \", precision_score(act, pred, average='weighted'))"
   ]
  },
  {
   "cell_type": "code",
   "execution_count": 222,
   "id": "9b1bf6c0",
   "metadata": {},
   "outputs": [
    {
     "name": "stdout",
     "output_type": "stream",
     "text": [
      "--Train--\n",
      "Confusion Matrix \n",
      " [[1 0 0 ... 0 0 0]\n",
      " [0 1 0 ... 0 0 0]\n",
      " [0 0 1 ... 0 0 0]\n",
      " ...\n",
      " [0 0 0 ... 1 0 0]\n",
      " [0 0 0 ... 0 1 0]\n",
      " [0 0 0 ... 0 0 1]]\n",
      "Accurcay :  0.9932778108268887\n",
      "Recall   :  0.9932778108268887\n",
      "Precision:  0.9919726363920265\n",
      "--Test--\n",
      "Confusion Matrix \n",
      " [[0 0 0 ... 0 0 0]\n",
      " [0 0 0 ... 0 0 0]\n",
      " [0 0 0 ... 0 0 0]\n",
      " ...\n",
      " [0 0 0 ... 0 0 0]\n",
      " [0 0 0 ... 0 0 0]\n",
      " [0 0 0 ... 0 0 0]]\n",
      "Accurcay :  0.0\n",
      "Recall   :  0.0\n",
      "Precision:  0.0\n"
     ]
    },
    {
     "name": "stderr",
     "output_type": "stream",
     "text": [
      "C:\\Users\\manoj\\anaconda3\\lib\\site-packages\\sklearn\\metrics\\_classification.py:1334: UndefinedMetricWarning: Precision is ill-defined and being set to 0.0 in labels with no predicted samples. Use `zero_division` parameter to control this behavior.\n",
      "  _warn_prf(average, modifier, msg_start, len(result))\n",
      "C:\\Users\\manoj\\anaconda3\\lib\\site-packages\\sklearn\\metrics\\_classification.py:1334: UndefinedMetricWarning: Recall is ill-defined and being set to 0.0 in labels with no true samples. Use `zero_division` parameter to control this behavior.\n",
      "  _warn_prf(average, modifier, msg_start, len(result))\n",
      "C:\\Users\\manoj\\anaconda3\\lib\\site-packages\\sklearn\\metrics\\_classification.py:1334: UndefinedMetricWarning: Precision is ill-defined and being set to 0.0 in labels with no predicted samples. Use `zero_division` parameter to control this behavior.\n",
      "  _warn_prf(average, modifier, msg_start, len(result))\n"
     ]
    }
   ],
   "source": [
    "print(\"--Train--\")\n",
    "evaluate_model(Y_train, train_pred_RFPipe)\n",
    "print(\"--Test--\")\n",
    "evaluate_model(Y_test, test_pred_RFPipe)"
   ]
  },
  {
   "cell_type": "code",
   "execution_count": 223,
   "id": "6bcfc8ba",
   "metadata": {},
   "outputs": [
    {
     "data": {
      "text/plain": [
       "0.5865900283521513"
      ]
     },
     "execution_count": 223,
     "metadata": {},
     "output_type": "execute_result"
    }
   ],
   "source": [
    "mean_absolute_percentage_error(Y_test,test_pred_RFPipe)"
   ]
  },
  {
   "cell_type": "code",
   "execution_count": null,
   "id": "fcfcde2b",
   "metadata": {},
   "outputs": [],
   "source": []
  }
 ],
 "metadata": {
  "kernelspec": {
   "display_name": "Python 3 (ipykernel)",
   "language": "python",
   "name": "python3"
  },
  "language_info": {
   "codemirror_mode": {
    "name": "ipython",
    "version": 3
   },
   "file_extension": ".py",
   "mimetype": "text/x-python",
   "name": "python",
   "nbconvert_exporter": "python",
   "pygments_lexer": "ipython3",
   "version": "3.9.12"
  }
 },
 "nbformat": 4,
 "nbformat_minor": 5
}
